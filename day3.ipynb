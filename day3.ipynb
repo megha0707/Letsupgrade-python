{
 "cells": [
  {
   "cell_type": "code",
   "execution_count": 10,
   "metadata": {},
   "outputs": [
    {
     "name": "stdout",
     "output_type": "stream",
     "text": [
      "Enter the limit\t70\n",
      "The sum of 70 numbers is 2485\n"
     ]
    }
   ],
   "source": [
    "#sum of n numbers using while loop\n",
    "n=int(input(\"Enter the limit\\t\"))\n",
    "sum=0\n",
    "i=1\n",
    "while i<=n:\n",
    "    sum=sum+i\n",
    "    i=i+1\n",
    "print(\"The sum of\",n,\"numbers is\",sum)\n"
   ]
  },
  {
   "cell_type": "code",
   "execution_count": 15,
   "metadata": {},
   "outputs": [
    {
     "name": "stdout",
     "output_type": "stream",
     "text": [
      "Enter the number\n",
      "97\n",
      "97 is a prime number\n"
     ]
    }
   ],
   "source": [
    "#whether the given integer is prime or not\n",
    "n=int(input(\"Enter the number\\n\"))\n",
    "flag=0\n",
    "for i in range(2,n,1):\n",
    "    if(n % i) == 0:\n",
    "        flag=1\n",
    "        break\n",
    "if(n==1):\n",
    "    print(\"1 is neither a prime nor composite\")\n",
    "else:\n",
    "    if(flag==0):\n",
    "        print(n,\"is a prime number\")\n",
    "    else:\n",
    "        print(n,\"is not a prime number\")"
   ]
  },
  {
   "cell_type": "code",
   "execution_count": null,
   "metadata": {},
   "outputs": [],
   "source": []
  }
 ],
 "metadata": {
  "kernelspec": {
   "display_name": "Python 3",
   "language": "python",
   "name": "python3"
  },
  "language_info": {
   "codemirror_mode": {
    "name": "ipython",
    "version": 3
   },
   "file_extension": ".py",
   "mimetype": "text/x-python",
   "name": "python",
   "nbconvert_exporter": "python",
   "pygments_lexer": "ipython3",
   "version": "3.7.1"
  }
 },
 "nbformat": 4,
 "nbformat_minor": 2
}
