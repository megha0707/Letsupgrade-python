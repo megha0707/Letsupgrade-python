{
 "cells": [
  {
   "cell_type": "code",
   "execution_count": 48,
   "metadata": {},
   "outputs": [
    {
     "name": "stdout",
     "output_type": "stream",
     "text": [
      "[1, 1, 1, 2, 2, 3, 4, 4, 10, 56, 56, 0, 0, 0, 0, 0]\n"
     ]
    }
   ],
   "source": [
    "# sort the given list [0,1,2,10,4,1,0,56,2,0,1,3,0,56,0,4] in increasing order such that all zeros should be at right hand side\n",
    "list1=[0,1,2,10,4,1,0,56,2,0,1,3,0,56,0,4]\n",
    "s=len(list1)\n",
    "list2=[]\n",
    "list3=[]\n",
    "for each in range (s):\n",
    "    if list1[each]!=0:\n",
    "        list2.append(list1[each])\n",
    "list2.sort()\n",
    "for each in range (s):\n",
    "    if list1[each]==0:\n",
    "        list3.append(list1[each])\n",
    "final=list2+list3\n",
    "print(final)\n"
   ]
  },
  {
   "cell_type": "code",
   "execution_count": 50,
   "metadata": {},
   "outputs": [
    {
     "name": "stdout",
     "output_type": "stream",
     "text": [
      "[5, 10, 15, 20, 25, 35, 40, 45, 60, 60, 70, 80]\n"
     ]
    }
   ],
   "source": [
    "# merge the two sorted list to produce a sorted list but use only loop either for loop or while loop only on time\n",
    "list1=[10,20,40,60,70,80]\n",
    "list2=[5,15,25,35,45,60]\n",
    "s=len(list1)\n",
    "list3=[]\n",
    "for each in range (s):\n",
    "    if list2[each] < list1[each]:\n",
    "        list3=list2+list1\n",
    "list3.sort()\n",
    "print(list3)\n",
    "        "
   ]
  },
  {
   "cell_type": "code",
   "execution_count": null,
   "metadata": {},
   "outputs": [],
   "source": []
  }
 ],
 "metadata": {
  "kernelspec": {
   "display_name": "Python 3",
   "language": "python",
   "name": "python3"
  },
  "language_info": {
   "codemirror_mode": {
    "name": "ipython",
    "version": 3
   },
   "file_extension": ".py",
   "mimetype": "text/x-python",
   "name": "python",
   "nbconvert_exporter": "python",
   "pygments_lexer": "ipython3",
   "version": "3.7.1"
  }
 },
 "nbformat": 4,
 "nbformat_minor": 2
}
