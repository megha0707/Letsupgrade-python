{
 "cells": [
  {
   "cell_type": "code",
   "execution_count": 1,
   "metadata": {},
   "outputs": [
    {
     "name": "stdout",
     "output_type": "stream",
     "text": [
      "{21: 'FTP', 22: 'SSH', 23: 'TELNET', 80: 'HTTP'}\n",
      "{'FTP': 21, 'SSH': 22, 'TELNET': 23, 'HTTP': 80}\n"
     ]
    }
   ],
   "source": [
    "# Assignment1\n",
    "port1={21:\"FTP\",22:\"SSH\",23:\"TELNET\",80:\"HTTP\"}\n",
    "print(port1)\n",
    "port1={value:key for key, value in port1.items()}\n",
    "print(port1)"
   ]
  },
  {
   "cell_type": "code",
   "execution_count": 3,
   "metadata": {},
   "outputs": [
    {
     "name": "stdout",
     "output_type": "stream",
     "text": [
      "[(1, 2), (3, 4), (5, 6), (4, 5)]\n",
      "[3, 7, 11, 9]\n"
     ]
    }
   ],
   "source": [
    "# Assignment2\n",
    "list1=[(1,2),(3,4),(5,6),(4,5)]\n",
    "print(list1)\n",
    "list2=[]\n",
    "m=len(list1)\n",
    "for i in range(m):\n",
    "    a,b=list1[i]\n",
    "    list2.append(a+b)\n",
    "print(list2)"
   ]
  },
  {
   "cell_type": "code",
   "execution_count": 4,
   "metadata": {},
   "outputs": [
    {
     "name": "stdout",
     "output_type": "stream",
     "text": [
      "[1, 2, 3, 1, 2, 'a', 'hit', 'less']\n"
     ]
    }
   ],
   "source": [
    "#Assignment3\n",
    "list1=[(1,2,3),[1,2],['a','hit','less']]\n",
    "list2=[]\n",
    "list2=[ i for each in list1 for i in each]\n",
    "print(list2)"
   ]
  },
  {
   "cell_type": "code",
   "execution_count": null,
   "metadata": {},
   "outputs": [],
   "source": []
  }
 ],
 "metadata": {
  "kernelspec": {
   "display_name": "Python 3",
   "language": "python",
   "name": "python3"
  },
  "language_info": {
   "codemirror_mode": {
    "name": "ipython",
    "version": 3
   },
   "file_extension": ".py",
   "mimetype": "text/x-python",
   "name": "python",
   "nbconvert_exporter": "python",
   "pygments_lexer": "ipython3",
   "version": "3.7.1"
  }
 },
 "nbformat": 4,
 "nbformat_minor": 2
}
